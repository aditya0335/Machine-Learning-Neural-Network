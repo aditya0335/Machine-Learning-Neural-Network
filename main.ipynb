{
 "cells": [
  {
   "cell_type": "code",
   "execution_count": 26,
   "metadata": {},
   "outputs": [],
   "source": [
    "import numpy as np\n",
    "import os\n",
    "# os.chdir('/Users/adityabansal/Desktop/data_with_notebook/')\n",
    "import util_mnist_reader as mnist_reader\n",
    "# root_path=\"/Users/adityabansal/Desktop/data_with_notebook/\"\n",
    "X_train, y_train = mnist_reader.load_mnist('../data/fashion', kind='train')\n",
    "X_test, y_test = mnist_reader.load_mnist('../data/fashion', kind='t10k')\n",
    "\n",
    "import keras\n",
    "import tensorflow as tf\n",
    "import matplotlib.pyplot as plt\n",
    "from sklearn.metrics import confusion_matrix ,accuracy_score\n",
    "import warnings\n",
    "warnings.filterwarnings('ignore')\n",
    "\n",
    "from keras.models import Sequential, model_from_json\n",
    "from keras.layers import Dense, Conv2D, Activation, MaxPool2D, Flatten, Dropout, BatchNormalization,MaxPooling2D\n",
    "from keras.optimizers import RMSprop,Adam,Adadelta\n",
    "from keras.preprocessing import image\n",
    "from keras.preprocessing.image import ImageDataGenerator\n",
    "from keras.callbacks import ModelCheckpoint"
   ]
  },
  {
   "cell_type": "markdown",
   "metadata": {},
   "source": [
    "## Neural Network with One Hidden Layer"
   ]
  },
  {
   "cell_type": "markdown",
   "metadata": {},
   "source": [
    "### Sigmod"
   ]
  },
  {
   "cell_type": "code",
   "execution_count": 27,
   "metadata": {},
   "outputs": [],
   "source": [
    "def sigmoid(z):\n",
    "  return 1/(1+ np.exp(-z))"
   ]
  },
  {
   "cell_type": "markdown",
   "metadata": {},
   "source": [
    "### Derivative Sigmoid"
   ]
  },
  {
   "cell_type": "code",
   "execution_count": 28,
   "metadata": {},
   "outputs": [],
   "source": [
    "def derv_sigmoid(z):\n",
    "  return z*(1-z)"
   ]
  },
  {
   "cell_type": "markdown",
   "metadata": {},
   "source": [
    "### Cost Entropy"
   ]
  },
  {
   "cell_type": "code",
   "execution_count": 29,
   "metadata": {},
   "outputs": [],
   "source": [
    "def cost_entropy(x,y):\n",
    "    m = y.shape[0]\n",
    "    dw = x - y\n",
    "    return dw/m"
   ]
  },
  {
   "cell_type": "markdown",
   "metadata": {},
   "source": [
    "### Loss Function"
   ]
  },
  {
   "cell_type": "code",
   "execution_count": 30,
   "metadata": {},
   "outputs": [],
   "source": [
    "def cost(x, y):\n",
    "      m = y.shape[0]\n",
    "      logp=y*np.log(x)\n",
    "      loss=-np.sum(logp)/m\n",
    "      return loss"
   ]
  },
  {
   "cell_type": "markdown",
   "metadata": {},
   "source": [
    "### Softmax Function"
   ]
  },
  {
   "cell_type": "code",
   "execution_count": 31,
   "metadata": {},
   "outputs": [],
   "source": [
    "def softmax(z):\n",
    "    exps = np.exp(z)# - np.max(z, axis=1, keepdims=True))\n",
    "    return exps/np.sum(exps, axis=1, keepdims=True)"
   ]
  },
  {
   "cell_type": "markdown",
   "metadata": {},
   "source": [
    "### Normalizing training and test data(X)"
   ]
  },
  {
   "cell_type": "code",
   "execution_count": 32,
   "metadata": {},
   "outputs": [],
   "source": [
    "X_train=X_train/255.0\n",
    "X_test=X_test/255.0"
   ]
  },
  {
   "cell_type": "markdown",
   "metadata": {},
   "source": [
    "### Normalizing training and test data(Y)"
   ]
  },
  {
   "cell_type": "code",
   "execution_count": 33,
   "metadata": {},
   "outputs": [],
   "source": [
    "Y_train=tf.keras.utils.to_categorical(\n",
    "    y_train,\n",
    "    num_classes=10\n",
    ")\n",
    "Y_test=tf.keras.utils.to_categorical(\n",
    "    y_test,\n",
    "    num_classes=10  \n",
    ")"
   ]
  },
  {
   "cell_type": "markdown",
   "metadata": {},
   "source": [
    "### Taking test data as validation data"
   ]
  },
  {
   "cell_type": "code",
   "execution_count": 34,
   "metadata": {},
   "outputs": [],
   "source": [
    "y_val=Y_test\n",
    "X_val=X_test"
   ]
  },
  {
   "cell_type": "markdown",
   "metadata": {},
   "source": [
    "### Derfining Hyperparameters"
   ]
  },
  {
   "cell_type": "code",
   "execution_count": 35,
   "metadata": {},
   "outputs": [],
   "source": [
    "epochs=50\n",
    "learningrate=0.75\n",
    "classifiers=10\n",
    "nodes=256\n",
    "batchsize=500"
   ]
  },
  {
   "cell_type": "markdown",
   "metadata": {},
   "source": [
    "### Initializing Variables"
   ]
  },
  {
   "cell_type": "code",
   "execution_count": 36,
   "metadata": {},
   "outputs": [],
   "source": [
    "losstrack=[]\n",
    "loss_train1=[]\n",
    "losstrack_val=[]\n",
    "trainaccuracy=[]\n",
    "acc_train=0\n",
    "acc_val=0\n",
    "acc_train_total=[]\n",
    "acc_val_complete=[]\n",
    "classes=10"
   ]
  },
  {
   "cell_type": "markdown",
   "metadata": {},
   "source": [
    "### Initializing Weights and bias with random values"
   ]
  },
  {
   "cell_type": "code",
   "execution_count": 37,
   "metadata": {},
   "outputs": [],
   "source": [
    "weight1=np.random.randn(X_train.shape[1],nodes)\n",
    "weight2=np.random.randn(nodes,classifiers)\n",
    "bias1=np.random.randn(1,nodes)\n",
    "bias2=np.random.randn(1,classifiers)"
   ]
  },
  {
   "cell_type": "markdown",
   "metadata": {},
   "source": [
    "### Forward Propagation and Backward Propagation(Training of Data)"
   ]
  },
  {
   "cell_type": "code",
   "execution_count": 38,
   "metadata": {},
   "outputs": [],
   "source": [
    "for epoch in range(epochs):  #Traininig data for every epoch(Hyperparameter)\n",
    "    \n",
    "    a=0\n",
    "    b=batchsize\n",
    "    \n",
    "    index=np.random.permutation(X_train.shape[0])\n",
    "    \n",
    "    for i in range(int(X_train.shape[0]/batchsize)):\n",
    "     \n",
    "      x_train1=X_train[index[a:b]]\n",
    "      y_train1=Y_train[index[a:b]]\n",
    "      \n",
    "      #Linear regression equation\n",
    "    \n",
    "      #Train Feed Forward\n",
    "        #Layer 1\n",
    "      z1_train = np.dot(x_train1,weight1) + bias1\n",
    "      p1_train = sigmoid(z1_train)\n",
    "        #Layer 2\n",
    "      z2_train = np.dot(p1_train,weight2 ) + bias2\n",
    "      p2_train = softmax(z2_train)\n",
    "       \n",
    "      \n",
    "      # Validation Feed Forward\n",
    "        #Layer1\n",
    "      z1_val = np.dot(X_val,weight1) + bias1\n",
    "      p1_val = sigmoid(z1_val)\n",
    "        #Layer2\n",
    "      z2_val = np.dot(p1_val,weight2 ) + bias2\n",
    "      p2_val = softmax(z2_val) \n",
    "      \n",
    "      for i in range(y_train1.shape[0]):\n",
    "          if p2_train[i].argmax() == y_train1[i].argmax():\n",
    "              acc_train +=1\n",
    "         \n",
    "      acc_train_total.append(acc_train)\n",
    "\n",
    "\n",
    "      p2_train_delta=cost_entropy(p2_train,y_train1)\n",
    "        \n",
    "      z1_train_delta=np.dot(p2_train_delta,weight2.T)\n",
    "      p1_train_delta=z1_train_delta*derv_sigmoid(p1_train)\n",
    "\n",
    "      weight2 -= learningrate*np.dot(p1_train.T,p2_train_delta) \n",
    "      bias2 -= learningrate*np.sum(p2_train_delta,axis=0, keepdims=True) \n",
    "\n",
    "\n",
    "      weight1 -= learningrate*np.dot(x_train1.T,p1_train_delta) \n",
    "      bias1 -= learningrate*np.sum(p1_train_delta,axis=0, keepdims=True) \n",
    "      \n",
    "      \n",
    "      #Loss for train data\n",
    "      loss_train=cost(p2_train,y_train1)\n",
    "      losstrack.append(loss_train)\n",
    "      a+=batchsize\n",
    "      b+=batchsize  \n",
    "        #Loss for Validation data  \n",
    "    loss_val=cost(p2_val,y_val)\n",
    "    losstrack_val.append(loss_val)\n",
    "    loss_train1.append(np.mean(losstrack))\n",
    "    losstrack=[]\n",
    "\n",
    "            \n",
    "    acc_val=0\n",
    "    for i in range(y_val.shape[0]):\n",
    "      if p2_val[i].argmax() == y_val[i].argmax():\n",
    "          acc_val +=1 \n",
    "      acc_val_complete.append(acc_val)      \n",
    "      \n",
    "      "
   ]
  },
  {
   "cell_type": "markdown",
   "metadata": {},
   "source": [
    "### Plot Graph for Loss of traing and validation data"
   ]
  },
  {
   "cell_type": "code",
   "execution_count": 39,
   "metadata": {},
   "outputs": [
    {
     "data": {
      "image/png": "[encoded data removed]",
      "text/plain": [
       "<Figure size 432x288 with 1 Axes>"
      ]
     },
     "metadata": {},
     "output_type": "display_data"
    }
   ],
   "source": [
    "plt.title('Neural Network with One Hidden Layer LOSS')\n",
    "plt.plot(loss_train1)\n",
    "plt.plot(losstrack_val)\n",
    "plt.legend(['Training loss', 'Validation Loss'], loc='upper right')\n",
    "plt.show()"
   ]
  },
  {
   "cell_type": "markdown",
   "metadata": {},
   "source": [
    "### Finding predicted values for our test data"
   ]
  },
  {
   "cell_type": "code",
   "execution_count": 40,
   "metadata": {},
   "outputs": [],
   "source": [
    "z1_test = np.dot(X_test,weight1) + bias1\n",
    "p1_test = sigmoid(z1_test)\n",
    "\n",
    "z2_test = np.dot(p1_test,weight2 ) + bias2\n",
    "p2_test = softmax(z2_test)"
   ]
  },
  {
   "cell_type": "markdown",
   "metadata": {},
   "source": [
    "### Finidng Accuracy for training data"
   ]
  },
  {
   "cell_type": "code",
   "execution_count": 43,
   "metadata": {},
   "outputs": [
    {
     "name": "stdout",
     "output_type": "stream",
     "text": [
      "Train Accuracy for last training batch :-\n",
      "426\n",
      "Train Accuracy Percent :-\n",
      "85.2\n"
     ]
    }
   ],
   "source": [
    "acc=0\n",
    "for i in range(y_train1.shape[0]):\n",
    "    \n",
    "    if p2_train[i].argmax() == y_train1[i].argmax():\n",
    "         acc +=1\n",
    "         \n",
    "print(\"Train Accuracy for last training batch :-\")\n",
    "print(acc)\n",
    "print(\"Train Accuracy Percent :-\")\n",
    "print(acc/len(p2_train)*100)"
   ]
  },
  {
   "cell_type": "markdown",
   "metadata": {},
   "source": [
    "### Finidng Accuracy for test data"
   ]
  },
  {
   "cell_type": "code",
   "execution_count": 44,
   "metadata": {},
   "outputs": [
    {
     "name": "stdout",
     "output_type": "stream",
     "text": [
      "Test Accuracy:-\n",
      "8439\n",
      "Test Accuracy Percent :-\n",
      "84.39\n"
     ]
    }
   ],
   "source": [
    "acc_test=0\n",
    "for i in range(Y_test.shape[0]):\n",
    "    \n",
    "    if p2_test[i].argmax() == Y_test[i].argmax():\n",
    "         acc_test +=1\n",
    "print(\"Test Accuracy:-\")         \n",
    "print(acc_test)\n",
    "print(\"Test Accuracy Percent :-\")\n",
    "print(acc_test/len(p2_test)*100)"
   ]
  },
  {
   "cell_type": "markdown",
   "metadata": {},
   "source": [
    "### Confusion matrix for test data"
   ]
  },
  {
   "cell_type": "code",
   "execution_count": 45,
   "metadata": {},
   "outputs": [
    {
     "name": "stdout",
     "output_type": "stream",
     "text": [
      "[[904   8  40  70   5   0 247   0   9   1]\n",
      " [  3 958   2  14   1   0   5   0   0   0]\n",
      " [ 10   4 693  13  65   0  94   0   7   0]\n",
      " [ 25  20   8 810  25   1  21   0   4   0]\n",
      " [ 12   6 197  69 867   1 140   0  10   0]\n",
      " [  4   0   2   1   0 937   0  35   9  16]\n",
      " [ 32   2  53  15  30   0 469   0   7   1]\n",
      " [  0   0   0   0   0  31   2 904   5  31]\n",
      " [ 10   2   4   8   7   9  22   1 947   1]\n",
      " [  0   0   1   0   0  21   0  60   2 950]]\n"
     ]
    }
   ],
   "source": [
    "\n",
    "x=[]\n",
    "y=[]\n",
    "for i in range(Y_test.shape[0]):\n",
    "  x.append(p2_test[i].argmax())\n",
    "  y.append(Y_test[i].argmax())\n",
    "print(confusion_matrix(x,y,))"
   ]
  },
  {
   "cell_type": "markdown",
   "metadata": {},
   "source": [
    "## Multilayer Neural Network using Keras"
   ]
  },
  {
   "cell_type": "markdown",
   "metadata": {},
   "source": [
    "### Initializing model and defining layers"
   ]
  },
  {
   "cell_type": "code",
   "execution_count": 74,
   "metadata": {},
   "outputs": [],
   "source": [
    "model = Sequential() \n",
    "model.add(Dense(128, input_dim=X_train.shape[1], activation='sigmoid')) \n",
    "model.add(Dense(128, activation='relu')) # Hidden Layer 1\n",
    "model.add(Dense(128, activation='relu')) # Hidden Layer 2\n",
    "model.add(Dense(128, activation='relu'))\n",
    "model.add(Dense(10, activation='softmax'))"
   ]
  },
  {
   "cell_type": "markdown",
   "metadata": {},
   "source": [
    "### Checking summary of our model"
   ]
  },
  {
   "cell_type": "code",
   "execution_count": 75,
   "metadata": {},
   "outputs": [
    {
     "name": "stdout",
     "output_type": "stream",
     "text": [
      "_________________________________________________________________\n",
      "Layer (type)                 Output Shape              Param #   \n",
      "=================================================================\n",
      "dense_31 (Dense)             (None, 128)               100480    \n",
      "_________________________________________________________________\n",
      "dense_32 (Dense)             (None, 128)               16512     \n",
      "_________________________________________________________________\n",
      "dense_33 (Dense)             (None, 128)               16512     \n",
      "_________________________________________________________________\n",
      "dense_34 (Dense)             (None, 128)               16512     \n",
      "_________________________________________________________________\n",
      "dense_35 (Dense)             (None, 10)                1290      \n",
      "=================================================================\n",
      "Total params: 151,306\n",
      "Trainable params: 151,306\n",
      "Non-trainable params: 0\n",
      "_________________________________________________________________\n"
     ]
    }
   ],
   "source": [
    "model.summary() # Finidnig summary of model"
   ]
  },
  {
   "cell_type": "markdown",
   "metadata": {},
   "source": [
    "### Compiling our model and training data by mention hyperparameters in model.fit() function"
   ]
  },
  {
   "cell_type": "code",
   "execution_count": 76,
   "metadata": {},
   "outputs": [
    {
     "name": "stdout",
     "output_type": "stream",
     "text": [
      "Train on 60000 samples, validate on 10000 samples\n",
      "Epoch 1/50\n",
      "60000/60000 [==============================] - 4s 61us/step - loss: 1.0676 - categorical_accuracy: 0.5938 - val_loss: 0.7092 - val_categorical_accuracy: 0.7339\n",
      "Epoch 2/50\n",
      "60000/60000 [==============================] - 2s 39us/step - loss: 0.5975 - categorical_accuracy: 0.7709 - val_loss: 0.5623 - val_categorical_accuracy: 0.7913\n",
      "Epoch 3/50\n",
      "60000/60000 [==============================] - 2s 41us/step - loss: 0.5086 - categorical_accuracy: 0.8090 - val_loss: 0.4944 - val_categorical_accuracy: 0.8148\n",
      "Epoch 4/50\n",
      "60000/60000 [==============================] - 3s 42us/step - loss: 0.4673 - categorical_accuracy: 0.8257 - val_loss: 0.4597 - val_categorical_accuracy: 0.8336\n",
      "Epoch 5/50\n",
      "60000/60000 [==============================] - 2s 38us/step - loss: 0.4373 - categorical_accuracy: 0.8388 - val_loss: 0.4510 - val_categorical_accuracy: 0.8322\n",
      "Epoch 6/50\n",
      "60000/60000 [==============================] - 2s 40us/step - loss: 0.4179 - categorical_accuracy: 0.8447 - val_loss: 0.4327 - val_categorical_accuracy: 0.8423\n",
      "Epoch 7/50\n",
      "60000/60000 [==============================] - 2s 39us/step - loss: 0.3988 - categorical_accuracy: 0.8529 - val_loss: 0.4386 - val_categorical_accuracy: 0.8346\n",
      "Epoch 8/50\n",
      "60000/60000 [==============================] - 2s 41us/step - loss: 0.3854 - categorical_accuracy: 0.8573 - val_loss: 0.4282 - val_categorical_accuracy: 0.8468\n",
      "Epoch 9/50\n",
      "60000/60000 [==============================] - 2s 40us/step - loss: 0.3737 - categorical_accuracy: 0.8620 - val_loss: 0.4330 - val_categorical_accuracy: 0.8373\n",
      "Epoch 10/50\n",
      "60000/60000 [==============================] - 2s 38us/step - loss: 0.3612 - categorical_accuracy: 0.8654 - val_loss: 0.3891 - val_categorical_accuracy: 0.8572\n",
      "Epoch 11/50\n",
      "60000/60000 [==============================] - 4s 64us/step - loss: 0.3531 - categorical_accuracy: 0.8686 - val_loss: 0.3897 - val_categorical_accuracy: 0.8576\n",
      "Epoch 12/50\n",
      "60000/60000 [==============================] - 4s 64us/step - loss: 0.3439 - categorical_accuracy: 0.8717 - val_loss: 0.3828 - val_categorical_accuracy: 0.8603\n",
      "Epoch 13/50\n",
      "60000/60000 [==============================] - 4s 69us/step - loss: 0.3350 - categorical_accuracy: 0.8766 - val_loss: 0.3948 - val_categorical_accuracy: 0.8583\n",
      "Epoch 14/50\n",
      "60000/60000 [==============================] - 4s 67us/step - loss: 0.3256 - categorical_accuracy: 0.8774 - val_loss: 0.3662 - val_categorical_accuracy: 0.8644\n",
      "Epoch 15/50\n",
      "60000/60000 [==============================] - 4s 65us/step - loss: 0.3209 - categorical_accuracy: 0.8812 - val_loss: 0.3657 - val_categorical_accuracy: 0.8676\n",
      "Epoch 16/50\n",
      "60000/60000 [==============================] - 4s 66us/step - loss: 0.3131 - categorical_accuracy: 0.8828 - val_loss: 0.3948 - val_categorical_accuracy: 0.8589\n",
      "Epoch 17/50\n",
      "60000/60000 [==============================] - 4s 65us/step - loss: 0.3077 - categorical_accuracy: 0.8843 - val_loss: 0.3483 - val_categorical_accuracy: 0.8757\n",
      "Epoch 18/50\n",
      "60000/60000 [==============================] - 4s 65us/step - loss: 0.3030 - categorical_accuracy: 0.8862 - val_loss: 0.3472 - val_categorical_accuracy: 0.8726\n",
      "Epoch 19/50\n",
      "60000/60000 [==============================] - 4s 66us/step - loss: 0.2942 - categorical_accuracy: 0.8900 - val_loss: 0.3509 - val_categorical_accuracy: 0.8725\n",
      "Epoch 20/50\n",
      "60000/60000 [==============================] - 4s 65us/step - loss: 0.2917 - categorical_accuracy: 0.8912 - val_loss: 0.3726 - val_categorical_accuracy: 0.8661\n",
      "Epoch 21/50\n",
      "60000/60000 [==============================] - 4s 63us/step - loss: 0.2862 - categorical_accuracy: 0.8924 - val_loss: 0.3536 - val_categorical_accuracy: 0.8701\n",
      "Epoch 22/50\n",
      "60000/60000 [==============================] - 4s 65us/step - loss: 0.2807 - categorical_accuracy: 0.8943 - val_loss: 0.3481 - val_categorical_accuracy: 0.8748\n",
      "Epoch 23/50\n",
      "60000/60000 [==============================] - 4s 67us/step - loss: 0.2757 - categorical_accuracy: 0.8957 - val_loss: 0.3546 - val_categorical_accuracy: 0.8758\n",
      "Epoch 24/50\n",
      "60000/60000 [==============================] - 4s 70us/step - loss: 0.2735 - categorical_accuracy: 0.8972 - val_loss: 0.3517 - val_categorical_accuracy: 0.8717\n",
      "Epoch 25/50\n",
      "60000/60000 [==============================] - 4s 70us/step - loss: 0.2664 - categorical_accuracy: 0.9002 - val_loss: 0.3519 - val_categorical_accuracy: 0.8679\n",
      "Epoch 26/50\n",
      "60000/60000 [==============================] - 4s 70us/step - loss: 0.2660 - categorical_accuracy: 0.8995 - val_loss: 0.3547 - val_categorical_accuracy: 0.8728\n",
      "Epoch 27/50\n",
      "60000/60000 [==============================] - 4s 70us/step - loss: 0.2577 - categorical_accuracy: 0.9035 - val_loss: 0.3295 - val_categorical_accuracy: 0.8811\n",
      "Epoch 28/50\n",
      "60000/60000 [==============================] - 4s 69us/step - loss: 0.2551 - categorical_accuracy: 0.9044 - val_loss: 0.3451 - val_categorical_accuracy: 0.8758\n",
      "Epoch 29/50\n",
      "60000/60000 [==============================] - 4s 66us/step - loss: 0.2515 - categorical_accuracy: 0.9055 - val_loss: 0.3479 - val_categorical_accuracy: 0.8740\n",
      "Epoch 30/50\n",
      "60000/60000 [==============================] - 4s 66us/step - loss: 0.2479 - categorical_accuracy: 0.9072 - val_loss: 0.3331 - val_categorical_accuracy: 0.8799\n",
      "Epoch 31/50\n",
      "60000/60000 [==============================] - 4s 65us/step - loss: 0.2430 - categorical_accuracy: 0.9092 - val_loss: 0.3467 - val_categorical_accuracy: 0.8740\n",
      "Epoch 32/50\n",
      "60000/60000 [==============================] - 4s 65us/step - loss: 0.2409 - categorical_accuracy: 0.9086 - val_loss: 0.3542 - val_categorical_accuracy: 0.8712\n",
      "Epoch 33/50\n",
      "60000/60000 [==============================] - 4s 66us/step - loss: 0.2386 - categorical_accuracy: 0.9102 - val_loss: 0.3251 - val_categorical_accuracy: 0.8841\n",
      "Epoch 34/50\n",
      "60000/60000 [==============================] - 4s 66us/step - loss: 0.2342 - categorical_accuracy: 0.9125 - val_loss: 0.3274 - val_categorical_accuracy: 0.8810\n",
      "Epoch 35/50\n",
      "60000/60000 [==============================] - 4s 66us/step - loss: 0.2337 - categorical_accuracy: 0.9112 - val_loss: 0.3336 - val_categorical_accuracy: 0.8811\n",
      "Epoch 36/50\n",
      "60000/60000 [==============================] - 4s 63us/step - loss: 0.2300 - categorical_accuracy: 0.9135 - val_loss: 0.3260 - val_categorical_accuracy: 0.8840\n",
      "Epoch 37/50\n",
      "60000/60000 [==============================] - 4s 69us/step - loss: 0.2255 - categorical_accuracy: 0.9161 - val_loss: 0.3186 - val_categorical_accuracy: 0.8848\n",
      "Epoch 38/50\n",
      "60000/60000 [==============================] - 4s 70us/step - loss: 0.2210 - categorical_accuracy: 0.9165 - val_loss: 0.3403 - val_categorical_accuracy: 0.8813\n",
      "Epoch 39/50\n",
      "60000/60000 [==============================] - 4s 69us/step - loss: 0.2180 - categorical_accuracy: 0.9174 - val_loss: 0.3284 - val_categorical_accuracy: 0.8847\n",
      "Epoch 40/50\n",
      "60000/60000 [==============================] - 4s 66us/step - loss: 0.2151 - categorical_accuracy: 0.9180 - val_loss: 0.3198 - val_categorical_accuracy: 0.8897\n",
      "Epoch 41/50\n",
      "60000/60000 [==============================] - 4s 66us/step - loss: 0.2112 - categorical_accuracy: 0.9206 - val_loss: 0.3239 - val_categorical_accuracy: 0.8844\n",
      "Epoch 42/50\n",
      "60000/60000 [==============================] - 4s 63us/step - loss: 0.2127 - categorical_accuracy: 0.9195 - val_loss: 0.3449 - val_categorical_accuracy: 0.8785\n",
      "Epoch 43/50\n",
      "60000/60000 [==============================] - 3s 54us/step - loss: 0.2059 - categorical_accuracy: 0.9224 - val_loss: 0.3597 - val_categorical_accuracy: 0.8758\n",
      "Epoch 44/50\n",
      "60000/60000 [==============================] - 4s 65us/step - loss: 0.2032 - categorical_accuracy: 0.9230 - val_loss: 0.3274 - val_categorical_accuracy: 0.8902\n",
      "Epoch 45/50\n",
      "60000/60000 [==============================] - 4s 68us/step - loss: 0.1993 - categorical_accuracy: 0.9237 - val_loss: 0.3250 - val_categorical_accuracy: 0.8911\n",
      "Epoch 46/50\n",
      "60000/60000 [==============================] - 5s 80us/step - loss: 0.1979 - categorical_accuracy: 0.9255 - val_loss: 0.3226 - val_categorical_accuracy: 0.8891\n",
      "Epoch 47/50\n",
      "60000/60000 [==============================] - 5s 76us/step - loss: 0.1954 - categorical_accuracy: 0.9265 - val_loss: 0.3294 - val_categorical_accuracy: 0.8869\n",
      "Epoch 48/50\n",
      "60000/60000 [==============================] - 4s 72us/step - loss: 0.1931 - categorical_accuracy: 0.9273 - val_loss: 0.3292 - val_categorical_accuracy: 0.8865\n",
      "Epoch 49/50\n",
      "60000/60000 [==============================] - 4s 75us/step - loss: 0.1894 - categorical_accuracy: 0.9289 - val_loss: 0.3186 - val_categorical_accuracy: 0.8916\n",
      "Epoch 50/50\n",
      "60000/60000 [==============================] - 4s 72us/step - loss: 0.1846 - categorical_accuracy: 0.9302 - val_loss: 0.3231 - val_categorical_accuracy: 0.8879\n"
     ]
    }
   ],
   "source": [
    "model.compile(optimizer=Adadelta(), loss='categorical_crossentropy', metrics=['categorical_accuracy'])\n",
    "history=model.fit(X_train, Y_train,validation_data=(X_test,Y_test) ,epochs=50, batch_size=500)"
   ]
  },
  {
   "cell_type": "markdown",
   "metadata": {},
   "source": [
    "### Plotting training and validation loss graph"
   ]
  },
  {
   "cell_type": "code",
   "execution_count": 77,
   "metadata": {},
   "outputs": [
    {
     "data": {
      "image/png": "[encoded data removed]",
      "text/plain": [
       "<Figure size 432x288 with 1 Axes>"
      ]
     },
     "metadata": {},
     "output_type": "display_data"
    }
   ],
   "source": [
    "plt.plot(history.history['loss'])\n",
    "plt.plot(history.history['val_loss'])\n",
    "plt.title('Multi Layer Neural Network LOSS')\n",
    "plt.ylabel('Loss')\n",
    "plt.xlabel('Epochs')\n",
    "plt.legend(['Training loss', 'Validation Loss'], loc='upper right')\n",
    "plt.show()"
   ]
  },
  {
   "cell_type": "markdown",
   "metadata": {},
   "source": [
    "### Finding accuracy of test data and getting confusion matrix"
   ]
  },
  {
   "cell_type": "code",
   "execution_count": 78,
   "metadata": {},
   "outputs": [
    {
     "name": "stdout",
     "output_type": "stream",
     "text": [
      "Test Accuracy of Multilayer Neural Network:-\n",
      "8879\n",
      "\n",
      "Test Accuracy Percent of Multilayer Neural Network:-\n",
      "88.79\n",
      "\n",
      "Confusion Matrix of Multilayer Neural Network:-\n",
      "\n",
      "[[797   2  10  16   0   0  78   0   5   1]\n",
      " [  2 974   1  15   2   0   2   0   1   0]\n",
      " [ 19   1 779  15  61   0  68   0   1   0]\n",
      " [ 11  16   8 864  20   0  19   0   4   0]\n",
      " [  3   3 121  39 852   0  61   0   3   0]\n",
      " [  2   0   1   0   0 964   0  25   6   4]\n",
      " [158   3  78  44  61   0 763   0   6   0]\n",
      " [  0   0   0   0   0  14   0 939   3  19]\n",
      " [  8   1   2   7   4   1   9   1 971   0]\n",
      " [  0   0   0   0   0  21   0  35   0 976]]\n"
     ]
    }
   ],
   "source": [
    "\n",
    "y_pred = model.predict(X_test, batch_size=64,verbose=0,steps=None)\n",
    "Y_pred = np.argmax(y_pred, axis=1)\n",
    "\n",
    "acc_multineural=0\n",
    "for i in range(Y_test.shape[0]):\n",
    "    \n",
    "    if Y_pred[i] == Y_test[i].argmax():\n",
    "         acc_multineural +=1\n",
    "         \n",
    "print(\"Test Accuracy of Multilayer Neural Network:-\")         \n",
    "print(acc_multineural)\n",
    "print()\n",
    "print(\"Test Accuracy Percent of Multilayer Neural Network:-\")         \n",
    "print(acc_multineural/len(Y_test)*100)\n",
    "print()\n",
    "print(\"Confusion Matrix of Multilayer Neural Network:-\")\n",
    "print()\n",
    "print(confusion_matrix(Y_pred,y))"
   ]
  },
  {
   "cell_type": "markdown",
   "metadata": {},
   "source": [
    "## Convolution Neural Network"
   ]
  },
  {
   "cell_type": "markdown",
   "metadata": {},
   "source": [
    "### Defining layers of convolution"
   ]
  },
  {
   "cell_type": "code",
   "execution_count": 60,
   "metadata": {},
   "outputs": [],
   "source": [
    "X_train_conv=X_train\n",
    "X_test_conv=X_test\n",
    "X_train_conv = X_train_conv.reshape(-1, 28,28, 1)\n",
    "X_test_conv = X_test_conv.reshape(-1, 28,28, 1)\n",
    "model_c = Sequential()\n",
    "model_c.add(Conv2D(64, (3,3), input_shape=(28, 28, 1)))\n",
    "model_c.add(Activation('relu'))\n",
    "model_c.add(MaxPooling2D(pool_size=(2,2)))\n",
    "model_c.add(Conv2D(64, (3,3)))\n",
    "model_c.add(Activation('relu'))\n",
    "model_c.add(MaxPooling2D(pool_size=(2,2)))\n",
    "model_c.add(Flatten())\n",
    "model_c.add(Dense(64))\n",
    "model_c.add(Dense(10))\n",
    "model_c.add(Activation('softmax'))\n",
    "model_c.compile(loss=keras.losses.categorical_crossentropy, optimizer=keras.optimizers.Adam(),metrics=['accuracy'])"
   ]
  },
  {
   "cell_type": "markdown",
   "metadata": {},
   "source": [
    "### Training our data"
   ]
  },
  {
   "cell_type": "code",
   "execution_count": 61,
   "metadata": {},
   "outputs": [
    {
     "name": "stdout",
     "output_type": "stream",
     "text": [
      "Train on 60000 samples, validate on 10000 samples\n",
      "Epoch 1/50\n",
      "60000/60000 [==============================] - 38s 641us/step - loss: 0.9193 - acc: 0.6886 - val_loss: 0.5493 - val_acc: 0.7983\n",
      "Epoch 2/50\n",
      "60000/60000 [==============================] - 38s 631us/step - loss: 0.4794 - acc: 0.8258 - val_loss: 0.4666 - val_acc: 0.8300\n",
      "Epoch 3/50\n",
      "60000/60000 [==============================] - 37s 612us/step - loss: 0.4104 - acc: 0.8540 - val_loss: 0.4113 - val_acc: 0.8514\n",
      "Epoch 4/50\n",
      "60000/60000 [==============================] - 37s 612us/step - loss: 0.3722 - acc: 0.8686 - val_loss: 0.3818 - val_acc: 0.8645\n",
      "Epoch 5/50\n",
      "60000/60000 [==============================] - 39s 651us/step - loss: 0.3481 - acc: 0.8774 - val_loss: 0.3650 - val_acc: 0.8715\n",
      "Epoch 6/50\n",
      "60000/60000 [==============================] - 37s 620us/step - loss: 0.3372 - acc: 0.8802 - val_loss: 0.3656 - val_acc: 0.8693\n",
      "Epoch 7/50\n",
      "60000/60000 [==============================] - 37s 625us/step - loss: 0.3189 - acc: 0.8867 - val_loss: 0.3447 - val_acc: 0.8744\n",
      "Epoch 8/50\n",
      "60000/60000 [==============================] - 38s 628us/step - loss: 0.3057 - acc: 0.8910 - val_loss: 0.3331 - val_acc: 0.8817\n",
      "Epoch 9/50\n",
      "60000/60000 [==============================] - 35s 586us/step - loss: 0.2947 - acc: 0.8948 - val_loss: 0.3378 - val_acc: 0.8818\n",
      "Epoch 10/50\n",
      "60000/60000 [==============================] - 37s 616us/step - loss: 0.2876 - acc: 0.8971 - val_loss: 0.3149 - val_acc: 0.8888\n",
      "Epoch 11/50\n",
      "60000/60000 [==============================] - 36s 602us/step - loss: 0.2777 - acc: 0.9009 - val_loss: 0.3126 - val_acc: 0.8888\n",
      "Epoch 12/50\n",
      "60000/60000 [==============================] - 39s 645us/step - loss: 0.2726 - acc: 0.9015 - val_loss: 0.3136 - val_acc: 0.8888\n",
      "Epoch 13/50\n",
      "60000/60000 [==============================] - 36s 598us/step - loss: 0.2636 - acc: 0.9059 - val_loss: 0.3014 - val_acc: 0.8926\n",
      "Epoch 14/50\n",
      "60000/60000 [==============================] - 37s 615us/step - loss: 0.2565 - acc: 0.9087 - val_loss: 0.2918 - val_acc: 0.8967\n",
      "Epoch 15/50\n",
      "60000/60000 [==============================] - 36s 594us/step - loss: 0.2499 - acc: 0.9109 - val_loss: 0.3004 - val_acc: 0.8929\n",
      "Epoch 16/50\n",
      "60000/60000 [==============================] - 35s 575us/step - loss: 0.2421 - acc: 0.9138 - val_loss: 0.2906 - val_acc: 0.8965\n",
      "Epoch 17/50\n",
      "60000/60000 [==============================] - 39s 643us/step - loss: 0.2364 - acc: 0.9150 - val_loss: 0.2809 - val_acc: 0.9007\n",
      "Epoch 18/50\n",
      "60000/60000 [==============================] - 38s 625us/step - loss: 0.2347 - acc: 0.9159 - val_loss: 0.2762 - val_acc: 0.9004\n",
      "Epoch 19/50\n",
      "60000/60000 [==============================] - 37s 608us/step - loss: 0.2279 - acc: 0.9183 - val_loss: 0.2782 - val_acc: 0.8979\n",
      "Epoch 20/50\n",
      "60000/60000 [==============================] - 35s 578us/step - loss: 0.2215 - acc: 0.9213 - val_loss: 0.2744 - val_acc: 0.9017\n",
      "Epoch 21/50\n",
      "60000/60000 [==============================] - 37s 625us/step - loss: 0.2212 - acc: 0.9205 - val_loss: 0.2742 - val_acc: 0.8990\n",
      "Epoch 22/50\n",
      "60000/60000 [==============================] - 47s 791us/step - loss: 0.2133 - acc: 0.9232 - val_loss: 0.2671 - val_acc: 0.9043\n",
      "Epoch 23/50\n",
      "60000/60000 [==============================] - 37s 611us/step - loss: 0.2128 - acc: 0.9239 - val_loss: 0.2714 - val_acc: 0.9028\n",
      "Epoch 24/50\n",
      "60000/60000 [==============================] - 37s 622us/step - loss: 0.2059 - acc: 0.9267 - val_loss: 0.2697 - val_acc: 0.9020\n",
      "Epoch 25/50\n",
      "60000/60000 [==============================] - 36s 593us/step - loss: 0.2059 - acc: 0.9258 - val_loss: 0.2872 - val_acc: 0.8973\n",
      "Epoch 26/50\n",
      "60000/60000 [==============================] - 36s 599us/step - loss: 0.1965 - acc: 0.9303 - val_loss: 0.2584 - val_acc: 0.9054\n",
      "Epoch 27/50\n",
      "60000/60000 [==============================] - 36s 607us/step - loss: 0.1929 - acc: 0.9308 - val_loss: 0.2725 - val_acc: 0.9019\n",
      "Epoch 28/50\n",
      "60000/60000 [==============================] - 37s 609us/step - loss: 0.1894 - acc: 0.9318 - val_loss: 0.2569 - val_acc: 0.9055\n",
      "Epoch 29/50\n",
      "60000/60000 [==============================] - 36s 605us/step - loss: 0.1865 - acc: 0.9332 - val_loss: 0.2649 - val_acc: 0.9042\n",
      "Epoch 30/50\n",
      "60000/60000 [==============================] - 37s 609us/step - loss: 0.1849 - acc: 0.9336 - val_loss: 0.2704 - val_acc: 0.9020\n",
      "Epoch 31/50\n",
      "60000/60000 [==============================] - 36s 604us/step - loss: 0.1754 - acc: 0.9368 - val_loss: 0.2574 - val_acc: 0.9070\n",
      "Epoch 32/50\n",
      "60000/60000 [==============================] - 36s 604us/step - loss: 0.1756 - acc: 0.9372 - val_loss: 0.2741 - val_acc: 0.9020\n",
      "Epoch 33/50\n",
      "60000/60000 [==============================] - 36s 600us/step - loss: 0.1740 - acc: 0.9371 - val_loss: 0.2530 - val_acc: 0.9063\n",
      "Epoch 34/50\n",
      "60000/60000 [==============================] - 35s 581us/step - loss: 0.1668 - acc: 0.9405 - val_loss: 0.2560 - val_acc: 0.9071\n",
      "Epoch 35/50\n",
      "60000/60000 [==============================] - 35s 584us/step - loss: 0.1614 - acc: 0.9426 - val_loss: 0.2695 - val_acc: 0.9039\n",
      "Epoch 36/50\n",
      "60000/60000 [==============================] - 35s 590us/step - loss: 0.1651 - acc: 0.9412 - val_loss: 0.2742 - val_acc: 0.8984\n",
      "Epoch 37/50\n",
      "60000/60000 [==============================] - 36s 608us/step - loss: 0.1613 - acc: 0.9414 - val_loss: 0.2573 - val_acc: 0.9060\n",
      "Epoch 38/50\n",
      "60000/60000 [==============================] - 36s 601us/step - loss: 0.1537 - acc: 0.9463 - val_loss: 0.2754 - val_acc: 0.9027\n",
      "Epoch 39/50\n",
      "60000/60000 [==============================] - 44s 735us/step - loss: 0.1515 - acc: 0.9459 - val_loss: 0.2567 - val_acc: 0.9079\n",
      "Epoch 40/50\n",
      "60000/60000 [==============================] - 48s 806us/step - loss: 0.1463 - acc: 0.9482 - val_loss: 0.2719 - val_acc: 0.9017\n",
      "Epoch 41/50\n",
      "60000/60000 [==============================] - 53s 881us/step - loss: 0.1443 - acc: 0.9485 - val_loss: 0.2716 - val_acc: 0.9063\n",
      "Epoch 42/50\n",
      "60000/60000 [==============================] - 54s 900us/step - loss: 0.1444 - acc: 0.9484 - val_loss: 0.2615 - val_acc: 0.9081\n",
      "Epoch 43/50\n",
      "60000/60000 [==============================] - 63s 1ms/step - loss: 0.1400 - acc: 0.9499 - val_loss: 0.2778 - val_acc: 0.9027\n",
      "Epoch 44/50\n",
      "60000/60000 [==============================] - 37s 612us/step - loss: 0.1383 - acc: 0.9510 - val_loss: 0.2707 - val_acc: 0.9060\n",
      "Epoch 45/50\n",
      "60000/60000 [==============================] - 38s 636us/step - loss: 0.1328 - acc: 0.9531 - val_loss: 0.2629 - val_acc: 0.9125\n",
      "Epoch 46/50\n",
      "60000/60000 [==============================] - 37s 611us/step - loss: 0.1317 - acc: 0.9532 - val_loss: 0.2718 - val_acc: 0.9061\n",
      "Epoch 47/50\n",
      "60000/60000 [==============================] - 36s 595us/step - loss: 0.1300 - acc: 0.9538 - val_loss: 0.2727 - val_acc: 0.9094\n",
      "Epoch 48/50\n",
      "60000/60000 [==============================] - 37s 613us/step - loss: 0.1257 - acc: 0.9554 - val_loss: 0.2847 - val_acc: 0.9038\n",
      "Epoch 49/50\n",
      "60000/60000 [==============================] - 36s 606us/step - loss: 0.1236 - acc: 0.9564 - val_loss: 0.2701 - val_acc: 0.9092\n",
      "Epoch 50/50\n",
      "60000/60000 [==============================] - 37s 611us/step - loss: 0.1197 - acc: 0.9573 - val_loss: 0.2780 - val_acc: 0.9087\n"
     ]
    }
   ],
   "source": [
    "history_conv=model_c.fit(X_train_conv, Y_train,validation_data=(X_test_conv,Y_test), batch_size=1000, epochs=50)"
   ]
  },
  {
   "cell_type": "markdown",
   "metadata": {},
   "source": [
    "### Plotting loss for each epoch of train and validation data"
   ]
  },
  {
   "cell_type": "code",
   "execution_count": 62,
   "metadata": {},
   "outputs": [
    {
     "data": {
      "image/png": "[encoded data removed]",
      "text/plain": [
       "<Figure size 432x288 with 1 Axes>"
      ]
     },
     "metadata": {},
     "output_type": "display_data"
    }
   ],
   "source": [
    "plt.plot(history_conv.history['loss'])\n",
    "plt.plot(history_conv.history['val_loss'])\n",
    "plt.title('Convolution neural network LOSS')\n",
    "plt.ylabel('Loss')\n",
    "plt.xlabel('Epochs')\n",
    "plt.legend(['Training loss', 'Validation Loss'], loc='upper right')\n",
    "plt.show()"
   ]
  },
  {
   "cell_type": "markdown",
   "metadata": {},
   "source": [
    "### Finding accuracy and confusion matrix for our train data"
   ]
  },
  {
   "cell_type": "code",
   "execution_count": 80,
   "metadata": {},
   "outputs": [
    {
     "name": "stdout",
     "output_type": "stream",
     "text": [
      "Train Accuracy Percent:-\n",
      "95.99499999999999\n"
     ]
    }
   ],
   "source": [
    "y_pred_train_conv = model_c.predict(X_train_conv, batch_size=64,verbose=0,steps=None)\n",
    "y_pred_train_conv = np.argmax(y_pred_train_conv, axis=1)\n",
    "acc_conv_train=0\n",
    "for i in range(Y_train.shape[0]):\n",
    "    \n",
    "    if y_pred_train_conv[i] == Y_train[i].argmax():\n",
    "         acc_conv_train +=1\n",
    "         \n",
    "print(\"Train Accuracy Percent:-\")\n",
    "print(acc_conv_train/len(Y_train)*100)"
   ]
  },
  {
   "cell_type": "markdown",
   "metadata": {},
   "source": [
    "### Finding accuracy and confusion matrix for our test data"
   ]
  },
  {
   "cell_type": "code",
   "execution_count": 79,
   "metadata": {},
   "outputs": [
    {
     "name": "stdout",
     "output_type": "stream",
     "text": [
      "Test Accuracy Percent:-\n",
      "90.86999999999999\n",
      "Confusion Matrix:\n",
      "[[816   3  11   7   1   0  89   0   2   1]\n",
      " [  1 981   1   4   0   0   0   0   0   0]\n",
      " [ 30   2 887  13  47   0  73   0   4   0]\n",
      " [ 39  11  11 950  33   0  32   0   4   0]\n",
      " [  5   0  44  14 866   0  87   0   1   0]\n",
      " [  1   0   0   0   0 972   0   9   1   8]\n",
      " [102   3  45  12  52   0 715   0   7   0]\n",
      " [  0   0   0   0   0  20   0 984   2  53]\n",
      " [  6   0   1   0   1   2   4   0 979   1]\n",
      " [  0   0   0   0   0   6   0   7   0 937]]\n"
     ]
    }
   ],
   "source": [
    "y_pred_test_conv = model_c.predict(X_test_conv, batch_size=64,verbose=0,steps=None)\n",
    "y_pred_test_conv = np.argmax(y_pred_test_conv, axis=1)\n",
    "acc_conv=0\n",
    "for i in range(Y_test.shape[0]):\n",
    "    \n",
    "    if y_pred_test_conv[i] == Y_test[i].argmax():\n",
    "         acc_conv +=1\n",
    "         \n",
    "\n",
    "print(\"Test Accuracy Percent:-\")\n",
    "print(acc_conv/len(Y_test)*100)\n",
    "print(\"Confusion Matrix:\")\n",
    "print(confusion_matrix(y_pred_test_conv,y))"
   ]
  }
 ],
 "metadata": {
  "colab": {
   "name": "fashion_mnist_reader.ipynb",
   "provenance": []
  },
  "kernelspec": {
   "display_name": "mypython",
   "language": "python",
   "name": "mypython"
  },
  "language_info": {
   "codemirror_mode": {
    "name": "ipython",
    "version": 3
   },
   "file_extension": ".py",
   "mimetype": "text/x-python",
   "name": "python",
   "nbconvert_exporter": "python",
   "pygments_lexer": "ipython3",
   "version": "3.6.5"
  }
 },
 "nbformat": 4,
 "nbformat_minor": 2
}
